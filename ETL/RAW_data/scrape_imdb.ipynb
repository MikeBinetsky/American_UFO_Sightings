{
 "cells": [
  {
   "cell_type": "code",
   "execution_count": 28,
   "id": "3d30a9e7-bb21-4571-a82b-c42a20169a55",
   "metadata": {},
   "outputs": [],
   "source": [
    "from splinter import Browser\n",
    "from bs4 import BeautifulSoup\n",
    "import pandas as pd\n",
    "import requests\n",
    "import pymongo\n",
    "from flask import Flask, render_template, redirect\n",
    "from flask_pymongo import PyMongo\n",
    "import time\n",
    "from webdriver_manager.chrome import ChromeDriverManager\n",
    "import csv"
   ]
  },
  {
   "cell_type": "code",
   "execution_count": 29,
   "id": "c0cce265-daf8-4ece-86ac-945a7d125ba9",
   "metadata": {},
   "outputs": [
    {
     "name": "stderr",
     "output_type": "stream",
     "text": [
      "\n",
      "\n",
      "====== WebDriver manager ======\n",
      "Current google-chrome version is 94.0.4606\n",
      "Get LATEST driver version for 94.0.4606\n",
      "Driver [C:\\Users\\Hao\\.wdm\\drivers\\chromedriver\\win32\\94.0.4606.61\\chromedriver.exe] found in cache\n"
     ]
    }
   ],
   "source": [
    "executable_path = {'executable_path': ChromeDriverManager().install()}\n",
    "browser = Browser('chrome', **executable_path, headless=False)"
   ]
  },
  {
   "cell_type": "code",
   "execution_count": 30,
   "id": "d65e6e25-49f7-4478-a9de-e06be82e9644",
   "metadata": {},
   "outputs": [],
   "source": [
    "browser.visit('https://www.imdb.com/search/keyword/?keywords=alien%2Cunidentified-flying-object&ref_=kw_ref_typ&sort=moviemeter,asc&mode=detail&page=1&title_type=movie&release_date=1949%2C2014')\n",
    "time.sleep(5)"
   ]
  },
  {
   "cell_type": "code",
   "execution_count": 31,
   "id": "aad310b0-a2c4-449a-bc4e-50c856dddbb6",
   "metadata": {},
   "outputs": [],
   "source": [
    "imdb_1_html = browser.html\n",
    "soup1 = BeautifulSoup(imdb_1_html, 'html.parser')"
   ]
  },
  {
   "cell_type": "code",
   "execution_count": 32,
   "id": "d50e5777-f1a3-4e97-be01-58f88908064b",
   "metadata": {},
   "outputs": [],
   "source": [
    "results = soup1.find_all('div', class_='lister-item-content')"
   ]
  },
  {
   "cell_type": "code",
   "execution_count": 33,
   "id": "f5e7fd18-8060-4ef6-b9fb-dc16ac739dbe",
   "metadata": {},
   "outputs": [],
   "source": [
    "moviedb = []"
   ]
  },
  {
   "cell_type": "code",
   "execution_count": 34,
   "id": "969fa5f0-2777-4510-8828-9ae7ae1f15b3",
   "metadata": {},
   "outputs": [],
   "source": [
    "#find the elements for the variable news_title and news_p\n",
    "for result in results:\n",
    "        movietitle = result.find('a', href=True).text\n",
    "        year = result.find(\"span\", class_=\"lister-item-year text-muted unbold\").text\n",
    "        rating = result.find(\"div\", class_=\"inline-block ratings-imdb-rating\")\n",
    "        rating2 = rating.find(\"strong\").text\n",
    "        moviedb.append({\"title\":movietitle, \"release_year\":year, \"rating\":rating2,})"
   ]
  },
  {
   "cell_type": "code",
   "execution_count": 8,
   "id": "608e8c48-c20b-49dc-931d-02635de1b196",
   "metadata": {},
   "outputs": [],
   "source": [
    "browser.visit('https://www.imdb.com/search/keyword/?keywords=alien%2Cunidentified-flying-object&ref_=kw_ref_typ&sort=moviemeter,asc&mode=detail&page=2&title_type=movie&release_date=1949%2C2014')\n",
    "time.sleep(5)"
   ]
  },
  {
   "cell_type": "code",
   "execution_count": 9,
   "id": "93362c8c-3bfc-4d16-ad6c-08dfcff72f27",
   "metadata": {},
   "outputs": [],
   "source": [
    "imdb_2_html = browser.html\n",
    "soup2 = BeautifulSoup(imdb_2_html, 'html.parser')"
   ]
  },
  {
   "cell_type": "code",
   "execution_count": 10,
   "id": "2df040bf-5446-4967-854d-7bb7fb354fc8",
   "metadata": {},
   "outputs": [],
   "source": [
    "results = soup2.find_all('div', class_='lister-item-content')"
   ]
  },
  {
   "cell_type": "code",
   "execution_count": 35,
   "id": "57fd31e5-90d3-40d9-b857-1dcce28692a0",
   "metadata": {},
   "outputs": [],
   "source": [
    "#find the elements for the variable news_title and news_p\n",
    "for result in results:\n",
    "        movietitle = result.find('a', href=True).text\n",
    "        year = result.find(\"span\", class_=\"lister-item-year text-muted unbold\").text\n",
    "        rating = result.find(\"div\", class_=\"inline-block ratings-imdb-rating\")\n",
    "        rating2 = rating.find(\"strong\").text\n",
    "        moviedb.append({\"title\":movietitle, \"release_year\":year, \"rating\":rating2,})"
   ]
  },
  {
   "cell_type": "code",
   "execution_count": null,
   "id": "b495ef54-b32b-48e1-8168-fb344f4eed21",
   "metadata": {},
   "outputs": [],
   "source": [
    "browser.visit('https://www.imdb.com/search/keyword/?keywords=alien%2Cunidentified-flying-object&ref_=kw_ref_typ&sort=moviemeter,asc&mode=detail&page=3&title_type=movie&release_date=1949%2C2014')\n",
    "time.sleep(5)"
   ]
  },
  {
   "cell_type": "code",
   "execution_count": 13,
   "id": "4c95e542-178e-4e62-a0eb-77afa0421fcc",
   "metadata": {},
   "outputs": [],
   "source": [
    "imdb_3_html = browser.html\n",
    "soup3 = BeautifulSoup(imdb_3_html, 'html.parser')"
   ]
  },
  {
   "cell_type": "code",
   "execution_count": 14,
   "id": "abf61c5b-4566-434d-b792-548bdc9ffcc9",
   "metadata": {},
   "outputs": [],
   "source": [
    "results = soup3.find_all('div', class_='lister-item-content')"
   ]
  },
  {
   "cell_type": "code",
   "execution_count": 15,
   "id": "c39bacbc-bb29-4e61-ac34-4cf70b878d9a",
   "metadata": {},
   "outputs": [],
   "source": [
    "for result in results:\n",
    "        movietitle = result.find('a', href=True).text\n",
    "        year = result.find(\"span\", class_=\"lister-item-year text-muted unbold\").text\n",
    "        rating = result.find(\"div\", class_=\"inline-block ratings-imdb-rating\")\n",
    "        rating2 = rating.find(\"strong\").text\n",
    "        moviedb.append({\"title\":movietitle, \"release_year\":year, \"rating\":rating2,})"
   ]
  },
  {
   "cell_type": "code",
   "execution_count": 3,
   "id": "cdce342b-7d5a-4759-b2ac-0579015a5d85",
   "metadata": {},
   "outputs": [],
   "source": [
    "browser.visit('https://www.imdb.com/search/keyword/?keywords=alien%2Cunidentified-flying-object&ref_=kw_ref_typ&sort=moviemeter,asc&mode=detail&page=4&title_type=movie&release_date=1949%2C2014')\n",
    "time.sleep(5)"
   ]
  },
  {
   "cell_type": "code",
   "execution_count": 4,
   "id": "79e10add-29c7-4578-a140-f1afe296f12d",
   "metadata": {},
   "outputs": [],
   "source": [
    "imdb_4_html = browser.html\n",
    "soup4 = BeautifulSoup(imdb_4_html, 'html.parser')"
   ]
  },
  {
   "cell_type": "code",
   "execution_count": 5,
   "id": "553c0d57-5d2a-4afe-b0dd-329a9dbf2204",
   "metadata": {},
   "outputs": [],
   "source": [
    "results = soup4.find_all('div', class_='lister-item-content')"
   ]
  },
  {
   "cell_type": "code",
   "execution_count": null,
   "id": "f2dc3f0f-4909-4741-a30f-93d5ef046016",
   "metadata": {},
   "outputs": [],
   "source": [
    "for result in results:\n",
    "        movietitle = result.find('a', href=True).text\n",
    "        year = result.find(\"span\", class_=\"lister-item-year text-muted unbold\").text\n",
    "        rating = result.find(\"div\", class_=\"inline-block ratings-imdb-rating\")\n",
    "        rating2 = rating.find(\"strong\").text\n",
    "        moviedb.append({\"title\":movietitle, \"release_year\":year, \"rating\":rating2,})        "
   ]
  },
  {
   "cell_type": "code",
   "execution_count": 44,
   "id": "98426739-dce0-4ef7-a276-57ae0509d91d",
   "metadata": {},
   "outputs": [],
   "source": [
    "df = pd.DataFrame.from_dict(moviedb)"
   ]
  },
  {
   "cell_type": "code",
   "execution_count": 45,
   "id": "ea735bb7-f4cf-497a-b8b9-67968c3f0185",
   "metadata": {},
   "outputs": [],
   "source": [
    "df.to_csv(\"moviesdb.csv\")"
   ]
  }
 ],
 "metadata": {
  "kernelspec": {
   "display_name": "Python 3",
   "language": "python",
   "name": "python3"
  },
  "language_info": {
   "codemirror_mode": {
    "name": "ipython",
    "version": 3
   },
   "file_extension": ".py",
   "mimetype": "text/x-python",
   "name": "python",
   "nbconvert_exporter": "python",
   "pygments_lexer": "ipython3",
   "version": "3.7.10"
  }
 },
 "nbformat": 4,
 "nbformat_minor": 5
}
